{
 "cells": [
  {
   "cell_type": "code",
   "execution_count": 1,
   "id": "801548c1",
   "metadata": {},
   "outputs": [],
   "source": [
    "##import needed library\n",
    "import warnings\n",
    "warnings.filterwarnings('ignore')\n",
    "import pandas as pd\n",
    "import numpy as np\n",
    "import matplotlib.pyplot as plt "
   ]
  },
  {
   "cell_type": "code",
   "execution_count": 2,
   "id": "1df7f18d",
   "metadata": {},
   "outputs": [],
   "source": [
    "#importing dataset\n",
    "df = pd.read_csv(\"ODI_data.csv\")\n"
   ]
  },
  {
   "cell_type": "code",
   "execution_count": 3,
   "id": "f3ba41be",
   "metadata": {},
   "outputs": [
    {
     "data": {
      "text/html": [
       "<div>\n",
       "<style scoped>\n",
       "    .dataframe tbody tr th:only-of-type {\n",
       "        vertical-align: middle;\n",
       "    }\n",
       "\n",
       "    .dataframe tbody tr th {\n",
       "        vertical-align: top;\n",
       "    }\n",
       "\n",
       "    .dataframe thead th {\n",
       "        text-align: right;\n",
       "    }\n",
       "</style>\n",
       "<table border=\"1\" class=\"dataframe\">\n",
       "  <thead>\n",
       "    <tr style=\"text-align: right;\">\n",
       "      <th></th>\n",
       "      <th>Innings Player</th>\n",
       "      <th>Innings Runs Scored</th>\n",
       "      <th>Innings Runs Scored Num</th>\n",
       "      <th>Innings Minutes Batted</th>\n",
       "      <th>Innings Batted Flag</th>\n",
       "      <th>Innings Not Out Flag</th>\n",
       "      <th>Innings Balls Faced</th>\n",
       "      <th>Innings Boundary Fours</th>\n",
       "      <th>Innings Boundary Sixes</th>\n",
       "      <th>Innings Batting Strike Rate</th>\n",
       "      <th>...</th>\n",
       "      <th>Innings Overs Bowled</th>\n",
       "      <th>Innings Bowled Flag</th>\n",
       "      <th>Innings Maidens Bowled</th>\n",
       "      <th>Innings Runs Conceded</th>\n",
       "      <th>Innings Wickets Taken</th>\n",
       "      <th>4 Wickets</th>\n",
       "      <th>5 Wickets</th>\n",
       "      <th>10 Wickets</th>\n",
       "      <th>Innings Wickets Taken Buckets</th>\n",
       "      <th>Innings Economy Rate</th>\n",
       "    </tr>\n",
       "  </thead>\n",
       "  <tbody>\n",
       "    <tr>\n",
       "      <th>0</th>\n",
       "      <td>E Lewis</td>\n",
       "      <td>65</td>\n",
       "      <td>65</td>\n",
       "      <td>128</td>\n",
       "      <td>1.0</td>\n",
       "      <td>0.0</td>\n",
       "      <td>80</td>\n",
       "      <td>8</td>\n",
       "      <td>1</td>\n",
       "      <td>81.25</td>\n",
       "      <td>...</td>\n",
       "      <td>NaN</td>\n",
       "      <td>NaN</td>\n",
       "      <td>NaN</td>\n",
       "      <td>NaN</td>\n",
       "      <td>NaN</td>\n",
       "      <td>NaN</td>\n",
       "      <td>NaN</td>\n",
       "      <td>NaN</td>\n",
       "      <td>NaN</td>\n",
       "      <td>NaN</td>\n",
       "    </tr>\n",
       "  </tbody>\n",
       "</table>\n",
       "<p>1 rows × 28 columns</p>\n",
       "</div>"
      ],
      "text/plain": [
       "  Innings Player Innings Runs Scored Innings Runs Scored Num  \\\n",
       "0        E Lewis                  65                      65   \n",
       "\n",
       "  Innings Minutes Batted  Innings Batted Flag  Innings Not Out Flag  \\\n",
       "0                    128                  1.0                   0.0   \n",
       "\n",
       "  Innings Balls Faced Innings Boundary Fours Innings Boundary Sixes  \\\n",
       "0                  80                      8                      1   \n",
       "\n",
       "  Innings Batting Strike Rate  ... Innings Overs Bowled Innings Bowled Flag  \\\n",
       "0                       81.25  ...                  NaN                 NaN   \n",
       "\n",
       "  Innings Maidens Bowled Innings Runs Conceded Innings Wickets Taken  \\\n",
       "0                    NaN                   NaN                   NaN   \n",
       "\n",
       "   4 Wickets  5 Wickets 10 Wickets Innings Wickets Taken Buckets  \\\n",
       "0        NaN        NaN        NaN                           NaN   \n",
       "\n",
       "   Innings Economy Rate  \n",
       "0                   NaN  \n",
       "\n",
       "[1 rows x 28 columns]"
      ]
     },
     "execution_count": 3,
     "metadata": {},
     "output_type": "execute_result"
    }
   ],
   "source": [
    "df.head(1)"
   ]
  },
  {
   "cell_type": "code",
   "execution_count": 4,
   "id": "a47a5be1",
   "metadata": {},
   "outputs": [
    {
     "data": {
      "text/plain": [
       "(171968, 28)"
      ]
     },
     "execution_count": 4,
     "metadata": {},
     "output_type": "execute_result"
    }
   ],
   "source": [
    "#TO know length of data\n",
    "\n",
    "#total row  #total columns\n",
    "len(df),len(df.columns)"
   ]
  },
  {
   "cell_type": "code",
   "execution_count": 5,
   "id": "e5109361",
   "metadata": {},
   "outputs": [
    {
     "data": {
      "text/plain": [
       "array(['65', '42', '18', '17', '13', '11', '5', '0', '120', '71', '20',\n",
       "       '16', '3', '2', '1', '-', nan, '40', '6', '4', '87', '54', '46',\n",
       "       '30', '12', '69', '39', '14', '10', '9', '8', '7', '82', '52',\n",
       "       '41', '15', '98', '43', '19', '111', '48', '36', '25', '67', '60',\n",
       "       '84', '59', '55', '47', '85', '49', '45', '34', '29', '22', '74',\n",
       "       '28', '77', '50', '32', '23', '35', '122', '100', '95', '103',\n",
       "       '113', '53', '96', '27', '64', '58', '33', '31', '73', '56', '86',\n",
       "       '62', '106', '24', '57', '104', '26', '66', '51', '118', '105',\n",
       "       '101', '21', '79', '44', '102', '88', '80', '72', '97', '68', '89',\n",
       "       '38', '83', '63', '148', '166', '90', '76', '37', '70', '124',\n",
       "       '94', '140', '153', '107', '117', '121', '92', '78', '75', '114',\n",
       "       '115', '130', '128', '151', '110', '138', '135', '109', '61',\n",
       "       '179', '170', '112', '116', '91', '143', '93', '123', '145', '81',\n",
       "       '150', '162', '108', '131', '133', '137', '146', '139', '125',\n",
       "       '129', '157', '152', '144', '99', '127', '210', '147', '126',\n",
       "       '181', '160', '180', '208', '176', '168', '141', '132', '119',\n",
       "       '154', '185', '134', '156', '164', '173', '178', '171', '149',\n",
       "       '237', '159', '161', '215', '264', '136', '169', '209', '174',\n",
       "       '189', '183', '163', '219', '158', '175', '177', '200', '194',\n",
       "       '142', '172', '186', '188', '167'], dtype=object)"
      ]
     },
     "execution_count": 5,
     "metadata": {},
     "output_type": "execute_result"
    }
   ],
   "source": [
    "#TO know unique value of columns\n",
    "df[\"Innings Runs Scored Num\"].unique()"
   ]
  },
  {
   "cell_type": "code",
   "execution_count": 6,
   "id": "0526350d",
   "metadata": {},
   "outputs": [],
   "source": [
    "#to remove the invalid value '-',nan\n",
    "df = df.dropna(subset = ['Innings Runs Scored Num'])\n",
    "df = df[df[\"Innings Runs Scored Num\"]!='-']"
   ]
  },
  {
   "cell_type": "code",
   "execution_count": 7,
   "id": "a1c20772",
   "metadata": {},
   "outputs": [
    {
     "data": {
      "text/plain": [
       "array(['65', '42', '18', '17', '13', '11', '5', '0', '120', '71', '20',\n",
       "       '16', '3', '2', '1', '40', '6', '4', '87', '54', '46', '30', '12',\n",
       "       '69', '39', '14', '10', '9', '8', '7', '82', '52', '41', '15',\n",
       "       '98', '43', '19', '111', '48', '36', '25', '67', '60', '84', '59',\n",
       "       '55', '47', '85', '49', '45', '34', '29', '22', '74', '28', '77',\n",
       "       '50', '32', '23', '35', '122', '100', '95', '103', '113', '53',\n",
       "       '96', '27', '64', '58', '33', '31', '73', '56', '86', '62', '106',\n",
       "       '24', '57', '104', '26', '66', '51', '118', '105', '101', '21',\n",
       "       '79', '44', '102', '88', '80', '72', '97', '68', '89', '38', '83',\n",
       "       '63', '148', '166', '90', '76', '37', '70', '124', '94', '140',\n",
       "       '153', '107', '117', '121', '92', '78', '75', '114', '115', '130',\n",
       "       '128', '151', '110', '138', '135', '109', '61', '179', '170',\n",
       "       '112', '116', '91', '143', '93', '123', '145', '81', '150', '162',\n",
       "       '108', '131', '133', '137', '146', '139', '125', '129', '157',\n",
       "       '152', '144', '99', '127', '210', '147', '126', '181', '160',\n",
       "       '180', '208', '176', '168', '141', '132', '119', '154', '185',\n",
       "       '134', '156', '164', '173', '178', '171', '149', '237', '159',\n",
       "       '161', '215', '264', '136', '169', '209', '174', '189', '183',\n",
       "       '163', '219', '158', '175', '177', '200', '194', '142', '172',\n",
       "       '186', '188', '167'], dtype=object)"
      ]
     },
     "execution_count": 7,
     "metadata": {},
     "output_type": "execute_result"
    }
   ],
   "source": [
    "df[\"Innings Runs Scored Num\"].unique()"
   ]
  },
  {
   "cell_type": "code",
   "execution_count": 8,
   "id": "9063dec3",
   "metadata": {},
   "outputs": [
    {
     "data": {
      "text/plain": [
       "Innings Player                    object\n",
       "Innings Runs Scored               object\n",
       "Innings Runs Scored Num           object\n",
       "Innings Minutes Batted            object\n",
       "Innings Batted Flag              float64\n",
       "Innings Not Out Flag             float64\n",
       "Innings Balls Faced               object\n",
       "Innings Boundary Fours            object\n",
       "Innings Boundary Sixes            object\n",
       "Innings Batting Strike Rate       object\n",
       "Innings Number                    object\n",
       "Opposition                        object\n",
       "Ground                            object\n",
       "Innings Date                      object\n",
       "Country                           object\n",
       "50's                             float64\n",
       "100's                            float64\n",
       "Innings Runs Scored Buckets       object\n",
       "Innings Overs Bowled              object\n",
       "Innings Bowled Flag              float64\n",
       "Innings Maidens Bowled            object\n",
       "Innings Runs Conceded             object\n",
       "Innings Wickets Taken             object\n",
       "4 Wickets                        float64\n",
       "5 Wickets                        float64\n",
       "10 Wickets                       float64\n",
       "Innings Wickets Taken Buckets     object\n",
       "Innings Economy Rate              object\n",
       "dtype: object"
      ]
     },
     "execution_count": 8,
     "metadata": {},
     "output_type": "execute_result"
    }
   ],
   "source": [
    "#To  know data type\n",
    "df.dtypes"
   ]
  },
  {
   "cell_type": "code",
   "execution_count": 9,
   "id": "a932f9ed",
   "metadata": {},
   "outputs": [],
   "source": [
    "#to convert data type\n",
    "df['Innings Runs Scored Num'] = df['Innings Runs Scored Num'].astype('int')\n",
    "df['Innings Balls Faced'] = df['Innings Balls Faced'].astype('int')\n",
    "df[\"50's\"] = df[ \"50's\"].astype('int')\n",
    "df[\"100's\"] = df[ \"100's\"].astype('int')\n",
    "# Conveting to datetime\n",
    "df['Innings Date']= pd.to_datetime(df['Innings Date'])"
   ]
  },
  {
   "cell_type": "code",
   "execution_count": 10,
   "id": "d05ba4eb",
   "metadata": {},
   "outputs": [
    {
     "data": {
      "text/plain": [
       "Innings Player                           object\n",
       "Innings Runs Scored                      object\n",
       "Innings Runs Scored Num                   int32\n",
       "Innings Minutes Batted                   object\n",
       "Innings Batted Flag                     float64\n",
       "Innings Not Out Flag                    float64\n",
       "Innings Balls Faced                       int32\n",
       "Innings Boundary Fours                   object\n",
       "Innings Boundary Sixes                   object\n",
       "Innings Batting Strike Rate              object\n",
       "Innings Number                           object\n",
       "Opposition                               object\n",
       "Ground                                   object\n",
       "Innings Date                     datetime64[ns]\n",
       "Country                                  object\n",
       "50's                                      int32\n",
       "100's                                     int32\n",
       "Innings Runs Scored Buckets              object\n",
       "Innings Overs Bowled                     object\n",
       "Innings Bowled Flag                     float64\n",
       "Innings Maidens Bowled                   object\n",
       "Innings Runs Conceded                    object\n",
       "Innings Wickets Taken                    object\n",
       "4 Wickets                               float64\n",
       "5 Wickets                               float64\n",
       "10 Wickets                              float64\n",
       "Innings Wickets Taken Buckets            object\n",
       "Innings Economy Rate                     object\n",
       "dtype: object"
      ]
     },
     "execution_count": 10,
     "metadata": {},
     "output_type": "execute_result"
    }
   ],
   "source": [
    "df.dtypes"
   ]
  },
  {
   "cell_type": "code",
   "execution_count": 11,
   "id": "38c45775",
   "metadata": {},
   "outputs": [],
   "source": [
    "#sparating year in new columns\n",
    "df['year'] = df['Innings Date'].dt.year"
   ]
  },
  {
   "cell_type": "code",
   "execution_count": 12,
   "id": "f99bbe4e",
   "metadata": {},
   "outputs": [],
   "source": [
    "#SPARATING DATE BY YEAR\n",
    "#Sachin 1994-2004\n",
    "Sachin_df= df[(df.year>=1994)&(df.year<=2004)]\n",
    "#virat 2009-2019\n",
    "Virat_df= df[(df.year>=2009)&(df.year<=2019)]"
   ]
  },
  {
   "cell_type": "markdown",
   "id": "1ac1bb1a",
   "metadata": {},
   "source": [
    "## Comparison Sachin vs ViratKohli\n",
    "\n",
    "#Runs per innings\n",
    "#Strike rate\n",
    "#50's\n",
    "#100's\n",
    "#Team contribution "
   ]
  },
  {
   "cell_type": "code",
   "execution_count": 13,
   "id": "63c6e30a",
   "metadata": {},
   "outputs": [
    {
     "data": {
      "text/plain": [
       "array(['West Indies', 'India', 'Sri Lanka', 'Bangladesh', 'England',\n",
       "       'New Zealand', 'Australia', 'Zimbabwe', 'Ireland', 'South Africa',\n",
       "       'Pakistan', 'Afghanistan'], dtype=object)"
      ]
     },
     "execution_count": 13,
     "metadata": {},
     "output_type": "execute_result"
    }
   ],
   "source": [
    "#To find name as per in data \n",
    "Virat_df['Country'].unique()"
   ]
  },
  {
   "cell_type": "code",
   "execution_count": 14,
   "id": "9025490e",
   "metadata": {},
   "outputs": [],
   "source": [
    "#we have saparate by years we need Sachin & Viratkohli data alone\n",
    "s_df=Sachin_df[Sachin_df['Innings Player']=='SR Tendulkar']\n",
    "vk_df=Virat_df[Virat_df['Innings Player']=='V Kohli']"
   ]
  },
  {
   "cell_type": "code",
   "execution_count": 15,
   "id": "7718f9d6",
   "metadata": {},
   "outputs": [
    {
     "data": {
      "text/html": [
       "<div>\n",
       "<style scoped>\n",
       "    .dataframe tbody tr th:only-of-type {\n",
       "        vertical-align: middle;\n",
       "    }\n",
       "\n",
       "    .dataframe tbody tr th {\n",
       "        vertical-align: top;\n",
       "    }\n",
       "\n",
       "    .dataframe thead th {\n",
       "        text-align: right;\n",
       "    }\n",
       "</style>\n",
       "<table border=\"1\" class=\"dataframe\">\n",
       "  <thead>\n",
       "    <tr style=\"text-align: right;\">\n",
       "      <th></th>\n",
       "      <th>Innings Player</th>\n",
       "      <th>Innings Runs Scored</th>\n",
       "      <th>Innings Runs Scored Num</th>\n",
       "      <th>Innings Minutes Batted</th>\n",
       "      <th>Innings Batted Flag</th>\n",
       "      <th>Innings Not Out Flag</th>\n",
       "      <th>Innings Balls Faced</th>\n",
       "      <th>Innings Boundary Fours</th>\n",
       "      <th>Innings Boundary Sixes</th>\n",
       "      <th>Innings Batting Strike Rate</th>\n",
       "      <th>...</th>\n",
       "      <th>Innings Bowled Flag</th>\n",
       "      <th>Innings Maidens Bowled</th>\n",
       "      <th>Innings Runs Conceded</th>\n",
       "      <th>Innings Wickets Taken</th>\n",
       "      <th>4 Wickets</th>\n",
       "      <th>5 Wickets</th>\n",
       "      <th>10 Wickets</th>\n",
       "      <th>Innings Wickets Taken Buckets</th>\n",
       "      <th>Innings Economy Rate</th>\n",
       "      <th>year</th>\n",
       "    </tr>\n",
       "  </thead>\n",
       "  <tbody>\n",
       "    <tr>\n",
       "      <th>11</th>\n",
       "      <td>V Kohli</td>\n",
       "      <td>120</td>\n",
       "      <td>120</td>\n",
       "      <td>179</td>\n",
       "      <td>1.0</td>\n",
       "      <td>0.0</td>\n",
       "      <td>125</td>\n",
       "      <td>14</td>\n",
       "      <td>1</td>\n",
       "      <td>96</td>\n",
       "      <td>...</td>\n",
       "      <td>NaN</td>\n",
       "      <td>NaN</td>\n",
       "      <td>NaN</td>\n",
       "      <td>NaN</td>\n",
       "      <td>NaN</td>\n",
       "      <td>NaN</td>\n",
       "      <td>NaN</td>\n",
       "      <td>NaN</td>\n",
       "      <td>NaN</td>\n",
       "      <td>2019</td>\n",
       "    </tr>\n",
       "    <tr>\n",
       "      <th>327</th>\n",
       "      <td>V Kohli</td>\n",
       "      <td>1</td>\n",
       "      <td>1</td>\n",
       "      <td>8</td>\n",
       "      <td>1.0</td>\n",
       "      <td>0.0</td>\n",
       "      <td>6</td>\n",
       "      <td>0</td>\n",
       "      <td>0</td>\n",
       "      <td>16.66</td>\n",
       "      <td>...</td>\n",
       "      <td>NaN</td>\n",
       "      <td>NaN</td>\n",
       "      <td>NaN</td>\n",
       "      <td>NaN</td>\n",
       "      <td>NaN</td>\n",
       "      <td>NaN</td>\n",
       "      <td>NaN</td>\n",
       "      <td>NaN</td>\n",
       "      <td>NaN</td>\n",
       "      <td>2019</td>\n",
       "    </tr>\n",
       "    <tr>\n",
       "      <th>420</th>\n",
       "      <td>V Kohli</td>\n",
       "      <td>34*</td>\n",
       "      <td>34</td>\n",
       "      <td>61</td>\n",
       "      <td>1.0</td>\n",
       "      <td>1.0</td>\n",
       "      <td>41</td>\n",
       "      <td>3</td>\n",
       "      <td>0</td>\n",
       "      <td>82.92</td>\n",
       "      <td>...</td>\n",
       "      <td>NaN</td>\n",
       "      <td>NaN</td>\n",
       "      <td>NaN</td>\n",
       "      <td>NaN</td>\n",
       "      <td>NaN</td>\n",
       "      <td>NaN</td>\n",
       "      <td>NaN</td>\n",
       "      <td>NaN</td>\n",
       "      <td>NaN</td>\n",
       "      <td>2019</td>\n",
       "    </tr>\n",
       "    <tr>\n",
       "      <th>664</th>\n",
       "      <td>V Kohli</td>\n",
       "      <td>26</td>\n",
       "      <td>26</td>\n",
       "      <td>45</td>\n",
       "      <td>1.0</td>\n",
       "      <td>0.0</td>\n",
       "      <td>27</td>\n",
       "      <td>3</td>\n",
       "      <td>0</td>\n",
       "      <td>96.29</td>\n",
       "      <td>...</td>\n",
       "      <td>NaN</td>\n",
       "      <td>NaN</td>\n",
       "      <td>NaN</td>\n",
       "      <td>NaN</td>\n",
       "      <td>NaN</td>\n",
       "      <td>NaN</td>\n",
       "      <td>NaN</td>\n",
       "      <td>NaN</td>\n",
       "      <td>NaN</td>\n",
       "      <td>2019</td>\n",
       "    </tr>\n",
       "    <tr>\n",
       "      <th>804</th>\n",
       "      <td>V Kohli</td>\n",
       "      <td>66</td>\n",
       "      <td>66</td>\n",
       "      <td>103</td>\n",
       "      <td>1.0</td>\n",
       "      <td>0.0</td>\n",
       "      <td>76</td>\n",
       "      <td>7</td>\n",
       "      <td>0</td>\n",
       "      <td>86.84</td>\n",
       "      <td>...</td>\n",
       "      <td>NaN</td>\n",
       "      <td>NaN</td>\n",
       "      <td>NaN</td>\n",
       "      <td>NaN</td>\n",
       "      <td>NaN</td>\n",
       "      <td>NaN</td>\n",
       "      <td>NaN</td>\n",
       "      <td>NaN</td>\n",
       "      <td>NaN</td>\n",
       "      <td>2019</td>\n",
       "    </tr>\n",
       "  </tbody>\n",
       "</table>\n",
       "<p>5 rows × 29 columns</p>\n",
       "</div>"
      ],
      "text/plain": [
       "    Innings Player Innings Runs Scored  Innings Runs Scored Num  \\\n",
       "11         V Kohli                 120                      120   \n",
       "327        V Kohli                   1                        1   \n",
       "420        V Kohli                 34*                       34   \n",
       "664        V Kohli                  26                       26   \n",
       "804        V Kohli                  66                       66   \n",
       "\n",
       "    Innings Minutes Batted  Innings Batted Flag  Innings Not Out Flag  \\\n",
       "11                     179                  1.0                   0.0   \n",
       "327                      8                  1.0                   0.0   \n",
       "420                     61                  1.0                   1.0   \n",
       "664                     45                  1.0                   0.0   \n",
       "804                    103                  1.0                   0.0   \n",
       "\n",
       "     Innings Balls Faced Innings Boundary Fours Innings Boundary Sixes  \\\n",
       "11                   125                     14                      1   \n",
       "327                    6                      0                      0   \n",
       "420                   41                      3                      0   \n",
       "664                   27                      3                      0   \n",
       "804                   76                      7                      0   \n",
       "\n",
       "    Innings Batting Strike Rate  ... Innings Bowled Flag  \\\n",
       "11                           96  ...                 NaN   \n",
       "327                       16.66  ...                 NaN   \n",
       "420                       82.92  ...                 NaN   \n",
       "664                       96.29  ...                 NaN   \n",
       "804                       86.84  ...                 NaN   \n",
       "\n",
       "    Innings Maidens Bowled Innings Runs Conceded Innings Wickets Taken  \\\n",
       "11                     NaN                   NaN                   NaN   \n",
       "327                    NaN                   NaN                   NaN   \n",
       "420                    NaN                   NaN                   NaN   \n",
       "664                    NaN                   NaN                   NaN   \n",
       "804                    NaN                   NaN                   NaN   \n",
       "\n",
       "    4 Wickets  5 Wickets  10 Wickets Innings Wickets Taken Buckets  \\\n",
       "11        NaN        NaN         NaN                           NaN   \n",
       "327       NaN        NaN         NaN                           NaN   \n",
       "420       NaN        NaN         NaN                           NaN   \n",
       "664       NaN        NaN         NaN                           NaN   \n",
       "804       NaN        NaN         NaN                           NaN   \n",
       "\n",
       "    Innings Economy Rate  year  \n",
       "11                   NaN  2019  \n",
       "327                  NaN  2019  \n",
       "420                  NaN  2019  \n",
       "664                  NaN  2019  \n",
       "804                  NaN  2019  \n",
       "\n",
       "[5 rows x 29 columns]"
      ]
     },
     "execution_count": 15,
     "metadata": {},
     "output_type": "execute_result"
    }
   ],
   "source": [
    "vk_df.head()"
   ]
  },
  {
   "cell_type": "code",
   "execution_count": 16,
   "id": "cc2e062f",
   "metadata": {},
   "outputs": [],
   "source": [
    "#Total Runs of player\n",
    "Sachinruns=sum(s_df['Innings Runs Scored Num'])\n",
    "ViratKohliruns=sum(vk_df['Innings Runs Scored Num'])"
   ]
  },
  {
   "cell_type": "code",
   "execution_count": 17,
   "id": "7d1eaf14",
   "metadata": {},
   "outputs": [
    {
     "data": {
      "text/plain": [
       "(11818, 11247)"
      ]
     },
     "execution_count": 17,
     "metadata": {},
     "output_type": "execute_result"
    }
   ],
   "source": [
    "Sachinruns,ViratKohliruns"
   ]
  },
  {
   "cell_type": "code",
   "execution_count": 18,
   "id": "d96a68ac",
   "metadata": {},
   "outputs": [
    {
     "data": {
      "text/plain": [
       "(43.61, 50.21)"
      ]
     },
     "execution_count": 18,
     "metadata": {},
     "output_type": "execute_result"
    }
   ],
   "source": [
    "#RUNS per Innings(RPI)\n",
    "RPI_of_Sachin=round(Sachinruns/len(s_df),2)\n",
    "RPI_of_Viratkohli=round(ViratKohliruns/len(vk_df),2)\n",
    "\n",
    "RPI_of_Sachin,RPI_of_Viratkohli"
   ]
  },
  {
   "cell_type": "code",
   "execution_count": 19,
   "id": "be1ac78a",
   "metadata": {},
   "outputs": [
    {
     "data": {
      "text/plain": [
       "(88.0, 94.0)"
      ]
     },
     "execution_count": 19,
     "metadata": {},
     "output_type": "execute_result"
    }
   ],
   "source": [
    "#Strik rate(SR)\n",
    "\n",
    "Sachin_SR=round (Sachinruns/sum(s_df['Innings Balls Faced']),2)*100\n",
    "\n",
    "Viratkholi_SR= round(ViratKohliruns/sum(vk_df['Innings Balls Faced']),2)*100\n",
    "\n",
    "Sachin_SR,Viratkholi_SR\n"
   ]
  },
  {
   "cell_type": "code",
   "execution_count": 20,
   "id": "3f66811b",
   "metadata": {},
   "outputs": [
    {
     "data": {
      "text/plain": [
       "(37, 42, 57, 53)"
      ]
     },
     "execution_count": 20,
     "metadata": {},
     "output_type": "execute_result"
    }
   ],
   "source": [
    "#No.of 100's ,50's \n",
    "\n",
    "Sachin_100s=sum(s_df[\"100's\"])\n",
    "Viratkholi_100s=sum(vk_df[\"100's\"])\n",
    "Sachin_50s=sum(s_df[\"50's\"])\n",
    "Viratkholi_50s=sum(vk_df[\"50's\"])\n",
    "Sachin_100s,Viratkholi_100s,Sachin_50s,Viratkholi_50s"
   ]
  },
  {
   "cell_type": "code",
   "execution_count": 21,
   "id": "acd707e9",
   "metadata": {},
   "outputs": [
    {
     "data": {
      "text/plain": [
       "(69715, 63867)"
      ]
     },
     "execution_count": 21,
     "metadata": {},
     "output_type": "execute_result"
    }
   ],
   "source": [
    "#Team contribution\n",
    "_1994to2004_indiaruns = sum(Sachin_df[Sachin_df.Country=='India']['Innings Runs Scored Num'])\n",
    "_2009to2019_indiaruns = sum(Virat_df[Virat_df.Country=='India']['Innings Runs Scored Num'])\n",
    "_1994to2004_indiaruns,_2009to2019_indiaruns"
   ]
  },
  {
   "cell_type": "code",
   "execution_count": 22,
   "id": "3fe216eb",
   "metadata": {},
   "outputs": [
    {
     "data": {
      "text/plain": [
       "(16.951875493078962, 17.610033350556627)"
      ]
     },
     "execution_count": 22,
     "metadata": {},
     "output_type": "execute_result"
    }
   ],
   "source": [
    "Sachin_Contribution=(Sachinruns/_1994to2004_indiaruns)*100\n",
    "Virat_Contribution=(ViratKohliruns/_2009to2019_indiaruns)*100\n",
    "Sachin_Contribution,Virat_Contribution"
   ]
  },
  {
   "cell_type": "code",
   "execution_count": 23,
   "id": "a0b9f8a5",
   "metadata": {},
   "outputs": [
    {
     "name": "stdout",
     "output_type": "stream",
     "text": [
      "Sachin Tendulkar Runs             : 11818\n",
      "Sachin Tendulkar RPI              : 43.61\n",
      "Sachin Tendulkar Strik rate       : 88.0\n",
      "Sachin Tendulkar team contribution: 16.951875493078962\n",
      "Sachin Tendulkar \n",
      "100's: 37 \n",
      "50's: 57\n"
     ]
    }
   ],
   "source": [
    "print(\"Sachin Tendulkar Runs             :\",Sachinruns)\n",
    "print(\"Sachin Tendulkar RPI              :\",RPI_of_Sachin)\n",
    "print(\"Sachin Tendulkar Strik rate       :\",Sachin_SR)\n",
    "print(\"Sachin Tendulkar team contribution:\",Sachin_Contribution)\n",
    "print(\"Sachin Tendulkar \\n100's:\",Sachin_100s, \"\\n50's:\",Sachin_50s)\n"
   ]
  },
  {
   "cell_type": "code",
   "execution_count": 24,
   "id": "344fe33f",
   "metadata": {},
   "outputs": [
    {
     "name": "stdout",
     "output_type": "stream",
     "text": [
      "Virat Kohli Runs             : 11247\n",
      "Virat Kohli RPI              : 50.21\n",
      "Virat Kohli Strik rate       : 94.0\n",
      "Virat Kohli team contribution: 17.610033350556627\n",
      "Virat Kohli \n",
      "100's: 42 \n",
      "50's: 53\n"
     ]
    }
   ],
   "source": [
    "print(\"Virat Kohli Runs             :\",ViratKohliruns)\n",
    "print(\"Virat Kohli RPI              :\",RPI_of_Viratkohli)\n",
    "print(\"Virat Kohli Strik rate       :\",Viratkholi_SR)\n",
    "print(\"Virat Kohli team contribution:\",Virat_Contribution)\n",
    "print(\"Virat Kohli \\n100's:\",Viratkholi_100s,\"\\n50's:\",Viratkholi_50s)"
   ]
  },
  {
   "cell_type": "code",
   "execution_count": 32,
   "id": "b3f8acc1",
   "metadata": {},
   "outputs": [
    {
     "data": {
      "text/html": [
       "<div>\n",
       "<style scoped>\n",
       "    .dataframe tbody tr th:only-of-type {\n",
       "        vertical-align: middle;\n",
       "    }\n",
       "\n",
       "    .dataframe tbody tr th {\n",
       "        vertical-align: top;\n",
       "    }\n",
       "\n",
       "    .dataframe thead th {\n",
       "        text-align: right;\n",
       "    }\n",
       "</style>\n",
       "<table border=\"1\" class=\"dataframe\">\n",
       "  <thead>\n",
       "    <tr style=\"text-align: right;\">\n",
       "      <th></th>\n",
       "      <th>Players</th>\n",
       "      <th>Runs</th>\n",
       "      <th>RPI</th>\n",
       "      <th>Strik rate</th>\n",
       "      <th>50s</th>\n",
       "      <th>100s</th>\n",
       "      <th>Contribution to team</th>\n",
       "    </tr>\n",
       "  </thead>\n",
       "  <tbody>\n",
       "    <tr>\n",
       "      <th>0</th>\n",
       "      <td>Sachin Tendulkar</td>\n",
       "      <td>11818</td>\n",
       "      <td>43.61</td>\n",
       "      <td>88.0</td>\n",
       "      <td>57</td>\n",
       "      <td>37</td>\n",
       "      <td>16.951875</td>\n",
       "    </tr>\n",
       "    <tr>\n",
       "      <th>1</th>\n",
       "      <td>Virat Kohli</td>\n",
       "      <td>11247</td>\n",
       "      <td>50.21</td>\n",
       "      <td>94.0</td>\n",
       "      <td>53</td>\n",
       "      <td>42</td>\n",
       "      <td>17.610033</td>\n",
       "    </tr>\n",
       "  </tbody>\n",
       "</table>\n",
       "</div>"
      ],
      "text/plain": [
       "            Players   Runs    RPI  Strik rate  50s  100s  Contribution to team\n",
       "0  Sachin Tendulkar  11818  43.61        88.0   57    37             16.951875\n",
       "1       Virat Kohli  11247  50.21        94.0   53    42             17.610033"
      ]
     },
     "execution_count": 32,
     "metadata": {},
     "output_type": "execute_result"
    }
   ],
   "source": [
    "#MAKE INTO table form\n",
    "srt_vs_vr=pd.DataFrame({'Players':['Sachin Tendulkar','Virat Kohli'],'Runs':[Sachinruns,ViratKohliruns],'RPI':[RPI_of_Sachin,RPI_of_Viratkohli],'Strik rate':[Sachin_SR,Viratkholi_SR],'50s':[Sachin_50s,Viratkholi_50s],'100s':[Sachin_100s,Viratkholi_100s],'Contribution to team':[Sachin_Contribution,Virat_Contribution] })\n",
    "srt_vs_vr"
   ]
  },
  {
   "cell_type": "code",
   "execution_count": 126,
   "id": "482e0bff",
   "metadata": {},
   "outputs": [
    {
     "data": {
      "image/png": "[encoded data removed]",
      "text/plain": [
       "<Figure size 432x288 with 1 Axes>"
      ]
     },
     "metadata": {
      "needs_background": "light"
     },
     "output_type": "display_data"
    },
    {
     "data": {
      "image/png": "[encoded data removed]",
      "text/plain": [
       "<Figure size 432x288 with 1 Axes>"
      ]
     },
     "metadata": {
      "needs_background": "light"
     },
     "output_type": "display_data"
    },
    {
     "data": {
      "image/png": "[encoded data removed]",
      "text/plain": [
       "<Figure size 432x288 with 1 Axes>"
      ]
     },
     "metadata": {},
     "output_type": "display_data"
    },
    {
     "data": {
      "image/png": "[encoded data removed]",
      "text/plain": [
       "<Figure size 432x288 with 1 Axes>"
      ]
     },
     "metadata": {},
     "output_type": "display_data"
    },
    {
     "data": {
      "text/html": [
       "<div>\n",
       "<style scoped>\n",
       "    .dataframe tbody tr th:only-of-type {\n",
       "        vertical-align: middle;\n",
       "    }\n",
       "\n",
       "    .dataframe tbody tr th {\n",
       "        vertical-align: top;\n",
       "    }\n",
       "\n",
       "    .dataframe thead th {\n",
       "        text-align: right;\n",
       "    }\n",
       "</style>\n",
       "<table border=\"1\" class=\"dataframe\">\n",
       "  <thead>\n",
       "    <tr style=\"text-align: right;\">\n",
       "      <th></th>\n",
       "      <th>Unnamed: 0</th>\n",
       "      <th>Players</th>\n",
       "      <th>Runs</th>\n",
       "      <th>RPI</th>\n",
       "      <th>Strik rate</th>\n",
       "      <th>50s</th>\n",
       "      <th>100s</th>\n",
       "      <th>Contribution to team</th>\n",
       "    </tr>\n",
       "  </thead>\n",
       "  <tbody>\n",
       "    <tr>\n",
       "      <th>0</th>\n",
       "      <td>0</td>\n",
       "      <td>Sachin Tendulkar</td>\n",
       "      <td>11818</td>\n",
       "      <td>43.61</td>\n",
       "      <td>88.0</td>\n",
       "      <td>57</td>\n",
       "      <td>37</td>\n",
       "      <td>16.951875</td>\n",
       "    </tr>\n",
       "    <tr>\n",
       "      <th>1</th>\n",
       "      <td>1</td>\n",
       "      <td>Virat Kohli</td>\n",
       "      <td>11247</td>\n",
       "      <td>50.21</td>\n",
       "      <td>94.0</td>\n",
       "      <td>53</td>\n",
       "      <td>42</td>\n",
       "      <td>17.610033</td>\n",
       "    </tr>\n",
       "  </tbody>\n",
       "</table>\n",
       "</div>"
      ],
      "text/plain": [
       "   Unnamed: 0           Players   Runs    RPI  Strik rate  50s  100s  \\\n",
       "0           0  Sachin Tendulkar  11818  43.61        88.0   57    37   \n",
       "1           1       Virat Kohli  11247  50.21        94.0   53    42   \n",
       "\n",
       "   Contribution to team  \n",
       "0             16.951875  \n",
       "1             17.610033  "
      ]
     },
     "execution_count": 126,
     "metadata": {},
     "output_type": "execute_result"
    }
   ],
   "source": [
    "\n",
    "\n",
    "#plotting barchart\n",
    "\n",
    "plt.title('Players Total Runs')\n",
    "plt.bar(Cdf['Players'],Cdf['Runs'],width=0.5)\n",
    "plt.show()\n",
    "\n",
    "plt.title('Players Total RPI')\n",
    "plt.bar(Cdf['Players'],Cdf['RPI'],width=0.5)\n",
    "plt.show()\n",
    " \n",
    "#plotting Pie chart\n",
    "plt.title('Players Total 50s')\n",
    "plt.title('Players Total 50s')\n",
    "plt.pie(Cdf['50s'],labels=Cdf['Players'],autopct='%.2f%%')\n",
    "plt.show()\n",
    "\n",
    "plt.title('Players Total 100s')\n",
    "plt.title('Players Total 100s')\n",
    "plt.pie(Cdf['100s'],labels=Cdf['Players'],autopct='%.2f%%')\n",
    "plt.show()\n",
    "\n",
    "\n",
    "# importing Csv\n",
    "Cdf= pd.read_csv('sachinTendulkarvsViratKohli.csv')\n",
    "Cdf"
   ]
  },
  {
   "cell_type": "code",
   "execution_count": 26,
   "id": "1dd30449",
   "metadata": {},
   "outputs": [],
   "source": [
    "#To export \n",
    "srt_vs_vr.to_csv('SachinTendulkarvsViratKohli.csv')"
   ]
  }
 ],
 "metadata": {
  "kernelspec": {
   "display_name": "Python 3 (ipykernel)",
   "language": "python",
   "name": "python3"
  },
  "language_info": {
   "codemirror_mode": {
    "name": "ipython",
    "version": 3
   },
   "file_extension": ".py",
   "mimetype": "text/x-python",
   "name": "python",
   "nbconvert_exporter": "python",
   "pygments_lexer": "ipython3",
   "version": "3.9.7"
  }
 },
 "nbformat": 4,
 "nbformat_minor": 5
}
